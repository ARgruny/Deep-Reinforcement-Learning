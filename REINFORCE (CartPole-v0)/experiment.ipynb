{
 "cells": [
  {
   "cell_type": "markdown",
   "metadata": {},
   "source": [
    "# REINFORCE (Monte Carlo Policy Gradient) on CartPole-v0"
   ]
  },
  {
   "cell_type": "markdown",
   "metadata": {},
   "source": [
    "## Imports"
   ]
  },
  {
   "cell_type": "code",
   "execution_count": 1,
   "metadata": {},
   "outputs": [
    {
     "name": "stderr",
     "output_type": "stream",
     "text": [
      "c:\\Users\\aljos\\miniconda3\\envs\\drlnd\\lib\\site-packages\\gym\\core.py:27: UserWarning: \u001b[33mWARN: Gym minimally supports python 3.6 as the python foundation not longer supports the version, please update your version to 3.7+\u001b[0m\n",
      "  \"Gym minimally supports python 3.6 as the python foundation not longer supports the version, please update your version to 3.7+\"\n"
     ]
    }
   ],
   "source": [
    "import gym\n",
    "gym.logger.set_level(40) # suppress warnings (please remove if gives error)\n",
    "import numpy as np\n",
    "from collections import deque\n",
    "import matplotlib.pyplot as plt\n",
    "%matplotlib inline\n",
    "\n",
    "from reinforce_agent import REINFORCE as Agent"
   ]
  },
  {
   "cell_type": "code",
   "execution_count": 2,
   "metadata": {},
   "outputs": [
    {
     "name": "stdout",
     "output_type": "stream",
     "text": [
      "observation space: Box([-4.8000002e+00 -3.4028235e+38 -4.1887903e-01 -3.4028235e+38], [4.8000002e+00 3.4028235e+38 4.1887903e-01 3.4028235e+38], (4,), float32)\n",
      "action space: Discrete(2)\n"
     ]
    }
   ],
   "source": [
    "# set up environment\n",
    "env = gym.make('CartPole-v0')\n",
    "print('observation space:', env.observation_space)\n",
    "print('action space:', env.action_space)"
   ]
  },
  {
   "cell_type": "code",
   "execution_count": 3,
   "metadata": {},
   "outputs": [],
   "source": [
    "agent = Agent(state_size=env.observation_space.shape[0], action_size=env.action_space.n)"
   ]
  },
  {
   "cell_type": "code",
   "execution_count": 4,
   "metadata": {},
   "outputs": [],
   "source": [
    "def model(n_epsidoes=2000, max_t=1000, print_every=100):\n",
    "    scores_window = deque(maxlen=print_every)\n",
    "    scores = []\n",
    "    for i_episode in range(1, n_epsidoes+1):\n",
    "        # reset environment\n",
    "        state = env.reset()[0]\n",
    "        agent.reset_memory()\n",
    "        for t in range(max_t):\n",
    "            # select action\n",
    "            action, log_prob = agent.act(state)\n",
    "\n",
    "            # take action in environment\n",
    "            next_state, reward, done, _, _ = env.step(action)\n",
    "\n",
    "            # check if episode finished\n",
    "            if done:\n",
    "                break\n",
    "            \n",
    "            # save experience\n",
    "            agent.step(reward=reward, log_prob=log_prob)\n",
    "\n",
    "            # update state\n",
    "            state = next_state\n",
    "        \n",
    "        # record reward\n",
    "        scores_window.append(sum(agent.rewards))\n",
    "        scores.append(sum(agent.rewards))\n",
    "        \n",
    "        # update network weights\n",
    "        agent.learn()\n",
    "        agent.increase_eps_counter()\n",
    "        \n",
    "        # print results\n",
    "        if i_episode % print_every == 0:\n",
    "            print('\\rEpisode {}\\tAverage Score: {:.2f}'.format(i_episode, np.mean(scores_window)))\n",
    "        if np.mean(scores_window)>=195.0:\n",
    "            print('\\nEnvironment solved in {:d} episodes!\\tAverage Score: {:.2f}'.format(i_episode, np.mean(scores_window)))\n",
    "            break\n",
    "\n",
    "    return scores"
   ]
  },
  {
   "cell_type": "code",
   "execution_count": 5,
   "metadata": {},
   "outputs": [
    {
     "name": "stdout",
     "output_type": "stream",
     "text": [
      "Episode 100\tAverage Score: 39.59\n",
      "Episode 200\tAverage Score: 44.29\n",
      "Episode 300\tAverage Score: 79.96\n",
      "Episode 400\tAverage Score: 63.69\n",
      "Episode 500\tAverage Score: 93.17\n",
      "Episode 600\tAverage Score: 96.30\n",
      "Episode 700\tAverage Score: 153.87\n",
      "\n",
      "Environment solved in 643 episodes!\tAverage Score: 195.41\n"
     ]
    }
   ],
   "source": [
    "scores = model()"
   ]
  },
  {
   "cell_type": "code",
   "execution_count": 7,
   "metadata": {},
   "outputs": [
    {
     "data": {
      "image/png": "[encoded data removed]",
      "text/plain": [
       "<Figure size 432x288 with 1 Axes>"
      ]
     },
     "metadata": {
      "needs_background": "light"
     },
     "output_type": "display_data"
    }
   ],
   "source": [
    "# plot the scores\n",
    "fig = plt.figure()\n",
    "ax = fig.add_subplot(111)\n",
    "plt.plot(np.arange(1, len(scores)+1), scores)\n",
    "plt.ylabel('Score')\n",
    "plt.xlabel('Episode #')\n",
    "plt.show()"
   ]
  }
 ],
 "metadata": {
  "kernelspec": {
   "display_name": "drlnd",
   "language": "python",
   "name": "drlnd"
  },
  "language_info": {
   "codemirror_mode": {
    "name": "ipython",
    "version": 3
   },
   "file_extension": ".py",
   "mimetype": "text/x-python",
   "name": "python",
   "nbconvert_exporter": "python",
   "pygments_lexer": "ipython3",
   "version": "3.6.15"
  }
 },
 "nbformat": 4,
 "nbformat_minor": 2
}
