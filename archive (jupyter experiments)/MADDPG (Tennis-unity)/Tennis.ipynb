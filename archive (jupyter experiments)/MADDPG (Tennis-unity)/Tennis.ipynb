{
 "cells": [
  {
   "cell_type": "code",
   "execution_count": 1,
   "metadata": {},
   "outputs": [],
   "source": [
    "from unityagents import UnityEnvironment\n",
    "import numpy as np\n",
    "from maddpg import MADDPG\n",
    "from collections import deque"
   ]
  },
  {
   "cell_type": "code",
   "execution_count": 2,
   "metadata": {},
   "outputs": [],
   "source": [
    "file_name = \"./Tennis_Windows_x86_64/Tennis.exe\""
   ]
  },
  {
   "cell_type": "code",
   "execution_count": 3,
   "metadata": {},
   "outputs": [
    {
     "name": "stderr",
     "output_type": "stream",
     "text": [
      "INFO:unityagents:\n",
      "'Academy' started successfully!\n",
      "Unity Academy name: Academy\n",
      "        Number of Brains: 1\n",
      "        Number of External Brains : 1\n",
      "        Lesson number : 0\n",
      "        Reset Parameters :\n",
      "\t\t\n",
      "Unity brain name: TennisBrain\n",
      "        Number of Visual Observations (per agent): 0\n",
      "        Vector Observation space type: continuous\n",
      "        Vector Observation space size (per agent): 8\n",
      "        Number of stacked Vector Observation: 3\n",
      "        Vector Action space type: continuous\n",
      "        Vector Action space size (per agent): 2\n",
      "        Vector Action descriptions: , \n"
     ]
    }
   ],
   "source": [
    "env = UnityEnvironment(file_name=file_name)"
   ]
  },
  {
   "cell_type": "code",
   "execution_count": 4,
   "metadata": {},
   "outputs": [],
   "source": [
    "# get the default brain\n",
    "brain_name = env.brain_names[0]\n",
    "brain = env.brains[brain_name]"
   ]
  },
  {
   "cell_type": "code",
   "execution_count": 5,
   "metadata": {},
   "outputs": [
    {
     "name": "stdout",
     "output_type": "stream",
     "text": [
      "Number of agents: 2\n",
      "Size of each action: 2\n",
      "There are 2 agents. Each observes a state with length: 24\n",
      "The state for the first agent looks like: [ 0.          0.          0.          0.          0.          0.\n",
      "  0.          0.          0.          0.          0.          0.\n",
      "  0.          0.          0.          0.         -6.65278625 -1.5\n",
      " -0.          0.          6.83172083  6.         -0.          0.        ]\n"
     ]
    }
   ],
   "source": [
    "# reset the environment\n",
    "env_info = env.reset(train_mode=True)[brain_name]\n",
    "\n",
    "# number of agents \n",
    "num_agents = len(env_info.agents)\n",
    "print('Number of agents:', num_agents)\n",
    "\n",
    "# size of each action\n",
    "action_size = brain.vector_action_space_size\n",
    "print('Size of each action:', action_size)\n",
    "\n",
    "# examine the state space \n",
    "states = env_info.vector_observations\n",
    "state_size = states.shape[1]\n",
    "print('There are {} agents. Each observes a state with length: {}'.format(states.shape[0], state_size))\n",
    "print('The state for the first agent looks like:', states[0])"
   ]
  },
  {
   "cell_type": "code",
   "execution_count": 6,
   "metadata": {},
   "outputs": [],
   "source": [
    "mult_agents = MADDPG(state_size, action_size, num_agents)"
   ]
  },
  {
   "cell_type": "code",
   "execution_count": 7,
   "metadata": {},
   "outputs": [],
   "source": [
    "def train(n_episodes: int = 2000):\n",
    "\n",
    "    score_agent_1 = []\n",
    "    score_agent_2 = []\n",
    "    scores_window_1 = deque(maxlen=100)\n",
    "    scores_window_2 = deque(maxlen=100)\n",
    "    scores = []\n",
    "    scores_window = deque(maxlen=100)\n",
    "\n",
    "    warmup = 300\n",
    "\n",
    "\n",
    "    for i_episode in range(1, n_episodes+warmup+1):\n",
    "\n",
    "        env_info = env.reset(train_mode=True)[brain_name]\n",
    "        states = env_info.vector_observations\n",
    "        mult_agents.reset(n_eps=n_episodes, curr_eps=i_episode)\n",
    "\n",
    "        episode_rewards = np.zeros(num_agents)\n",
    "        rewards_agent_1 = []\n",
    "        rewards_agent_2 = []\n",
    "\n",
    "        while True:\n",
    "            if i_episode < warmup:\n",
    "                actions = np.random.randn(num_agents, action_size)\n",
    "                actions = np.clip(actions, -1, 1)\n",
    "            else:\n",
    "                actions = mult_agents.act(states)\n",
    "                actions = np.clip(actions, -1, 1)\n",
    "\n",
    "            env_info = env.step(actions)[brain_name]\n",
    "\n",
    "            next_states = env_info.vector_observations\n",
    "            rewards = env_info.rewards\n",
    "            dones = env_info.local_done\n",
    "\n",
    "            if i_episode < (warmup - 50):\n",
    "                mult_agents.memory.add(states, actions, rewards, next_states, dones)\n",
    "            else:\n",
    "                mult_agents.step(states, actions, rewards, next_states, dones)\n",
    "\n",
    "            states = next_states\n",
    "\n",
    "            episode_rewards += rewards\n",
    "            rewards_agent_1.append(rewards[0])\n",
    "            rewards_agent_2.append(rewards[1])\n",
    "\n",
    "            if np.any(dones):\n",
    "                break\n",
    "            \n",
    "\n",
    "        episode_rewards = np.max(episode_rewards)\n",
    "        episode_rewards_1 = np.sum(rewards_agent_1)\n",
    "        episode_rewards_2 = np.sum(rewards_agent_2)\n",
    "\n",
    "        scores.append(episode_rewards)\n",
    "        scores_window.append(episode_rewards)\n",
    "        scores_window_1.append(episode_rewards_1)\n",
    "        scores_window_2.append(episode_rewards_2)\n",
    "        score_agent_1.append(np.mean(episode_rewards_1))\n",
    "        score_agent_2.append(np.mean(episode_rewards_2))\n",
    "\n",
    "        current_noise = np.mean(mult_agents.get_current_sigma())\n",
    "\n",
    "        print('\\rEpisode {}\\tEpisode Max Reward: {:.2f}\\tAverage Score: {:.4f} \\tCurrent Noise: {:.2f}'.format(i_episode, episode_rewards, np.mean(scores_window), current_noise), end=\"\")\n",
    "\n",
    "        if i_episode % 100 == 0:\n",
    "            print('\\rEpisode {}\\tEpisode Max Reward: {:.2f}\\tAverage Score: {:.4f} \\tCurrent Noise: {:.2f}'.format(i_episode, episode_rewards, np.mean(scores_window), current_noise))\n",
    "\n",
    "        if np.mean(scores_window) >= 0.7:\n",
    "            print('\\nEnvironment solved in {:d} episodes!\\tAverage Score: {:.4f}'.format(i_episode, np.mean(scores_window)))\n",
    "            break\n",
    "\n",
    "    return scores, score_agent_1, score_agent_2"
   ]
  },
  {
   "cell_type": "code",
   "execution_count": 8,
   "metadata": {},
   "outputs": [
    {
     "name": "stdout",
     "output_type": "stream",
     "text": [
      "Episode 100\tEpisode Max Reward: 0.00\tAverage Score: 0.0191 \tCurrent Noise: 0.81\n",
      "Episode 200\tEpisode Max Reward: 0.10\tAverage Score: 0.0234 \tCurrent Noise: 0.74\n",
      "Episode 300\tEpisode Max Reward: 0.00\tAverage Score: 0.0230 \tCurrent Noise: 0.67\n",
      "Episode 400\tEpisode Max Reward: 0.00\tAverage Score: 0.0010 \tCurrent Noise: 0.60\n",
      "Episode 500\tEpisode Max Reward: 0.00\tAverage Score: 0.0742 \tCurrent Noise: 0.55\n",
      "Episode 600\tEpisode Max Reward: 0.10\tAverage Score: 0.1319 \tCurrent Noise: 0.49\n",
      "Episode 700\tEpisode Max Reward: 0.20\tAverage Score: 0.1972 \tCurrent Noise: 0.45\n",
      "Episode 800\tEpisode Max Reward: 1.69\tAverage Score: 0.5877 \tCurrent Noise: 0.40\n",
      "Episode 821\tEpisode Max Reward: 2.20\tAverage Score: 0.7124 \tCurrent Noise: 0.40\n",
      "Environment solved in 821 episodes!\tAverage Score: 0.7124\n"
     ]
    }
   ],
   "source": [
    "scores, agent_1_scores, agent_2_scores = train()"
   ]
  },
  {
   "cell_type": "code",
   "execution_count": 9,
   "metadata": {},
   "outputs": [],
   "source": [
    "env.close()"
   ]
  },
  {
   "cell_type": "code",
   "execution_count": 11,
   "metadata": {},
   "outputs": [],
   "source": [
    "import torch"
   ]
  },
  {
   "cell_type": "code",
   "execution_count": 13,
   "metadata": {},
   "outputs": [],
   "source": [
    "# save all actor weights\n",
    "for i in range(len(mult_agents.actors)):\n",
    "    # save weights\n",
    "    torch.save(mult_agents.actors[i].state_dict(), f'checkpoint_actor_{i}.pth')"
   ]
  },
  {
   "cell_type": "code",
   "execution_count": 14,
   "metadata": {},
   "outputs": [],
   "source": [
    "# save all critic weights\n",
    "for i in range(len(mult_agents.critics)):\n",
    "    # save weights\n",
    "    torch.save(mult_agents.critics[i].state_dict(), f'checkpoint_critic_{i}.pth')"
   ]
  },
  {
   "cell_type": "code",
   "execution_count": 22,
   "metadata": {},
   "outputs": [],
   "source": [
    "running_mean = []\n",
    "\n",
    "for i in range(len(scores)):\n",
    "    if i < 100:\n",
    "        running_mean.append(np.mean(scores[:i]))\n",
    "    else:\n",
    "        running_mean.append(np.mean(scores[i-100:i]))"
   ]
  },
  {
   "cell_type": "code",
   "execution_count": 20,
   "metadata": {},
   "outputs": [
    {
     "name": "stdout",
     "output_type": "stream",
     "text": [
      "Max Score length: 821\n",
      "Max Score: 2.7000000402331352\n"
     ]
    }
   ],
   "source": []
  },
  {
   "cell_type": "code",
   "execution_count": 23,
   "metadata": {},
   "outputs": [
    {
     "data": {
      "image/png": "[encoded data removed]",
      "text/plain": [
       "<Figure size 720x360 with 1 Axes>"
      ]
     },
     "metadata": {
      "needs_background": "light"
     },
     "output_type": "display_data"
    }
   ],
   "source": [
    "# plot the scores\n",
    "import matplotlib.pyplot as plt\n",
    "\n",
    "fig = plt.figure(figsize=(10, 5))\n",
    "ax = fig.add_subplot(111)\n",
    "plt.plot(np.arange(len(scores)), scores, label='Max Score')\n",
    "plt.plot(np.arange(len(scores)), running_mean, label='Running Mean')\n",
    "plt.ylabel('Score')\n",
    "plt.xlabel('Episode #')\n",
    "plt.legend(loc='upper left')\n",
    "plt.show()"
   ]
  }
 ],
 "metadata": {
  "kernelspec": {
   "display_name": "drlnd",
   "language": "python",
   "name": "drlnd"
  },
  "language_info": {
   "codemirror_mode": {
    "name": "ipython",
    "version": 3
   },
   "file_extension": ".py",
   "mimetype": "text/x-python",
   "name": "python",
   "nbconvert_exporter": "python",
   "pygments_lexer": "ipython3",
   "version": "3.6.15"
  }
 },
 "nbformat": 4,
 "nbformat_minor": 2
}
